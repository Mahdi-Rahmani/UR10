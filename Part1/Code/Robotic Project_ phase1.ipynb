{
 "cells": [
  {
   "cell_type": "markdown",
   "id": "932d17a7",
   "metadata": {},
   "source": [
    "<div class=\"alert alert-block alert-success\">\n",
    "    <h1 align=\"center\">Robotics project</h1>\n",
    "    <h3 align=\"center\">Analyzing 6-DOF UR10 robot arm</h3>\n",
    "</div>"
   ]
  },
  {
   "cell_type": "markdown",
   "id": "eb93c12b",
   "metadata": {},
   "source": [
    "<div>\n",
    "<img src=\"./img/ur10_1.jpg\" width=\"400\" height=\"200\"/>\n",
    "</div>"
   ]
  },
  {
   "cell_type": "markdown",
   "id": "fbd5e641",
   "metadata": {},
   "source": [
    "## Import libraries"
   ]
  },
  {
   "cell_type": "code",
   "execution_count": 2,
   "id": "fa4b2668",
   "metadata": {},
   "outputs": [],
   "source": [
    "from sympy import *\n",
    "import numpy as np\n",
    "import math\n",
    "from math import degrees"
   ]
  },
  {
   "cell_type": "markdown",
   "id": "8551f0f7",
   "metadata": {},
   "source": [
    "## Part1\n",
    "### Forward Kinematics"
   ]
  },
  {
   "cell_type": "code",
   "execution_count": 122,
   "id": "b329a354",
   "metadata": {
    "scrolled": false
   },
   "outputs": [
    {
     "name": "stdout",
     "output_type": "stream",
     "text": [
      "T_ 0 _ 1  :\n",
      "\n",
      "⎡cos(θ₁)  -sin(θ₁)  0  0 ⎤\n",
      "⎢                        ⎥\n",
      "⎢sin(θ₁)  cos(θ₁)   0  0 ⎥\n",
      "⎢                        ⎥\n",
      "⎢   0        0      1  d₁⎥\n",
      "⎢                        ⎥\n",
      "⎣   0        0      0  1 ⎦\n",
      "\n",
      "T_ 1 _ 2  :\n",
      "\n",
      "⎡cos(θ₂)  -sin(θ₂)  0   0⎤\n",
      "⎢                        ⎥\n",
      "⎢   0        0      -1  0⎥\n",
      "⎢                        ⎥\n",
      "⎢sin(θ₂)  cos(θ₂)   0   0⎥\n",
      "⎢                        ⎥\n",
      "⎣   0        0      0   1⎦\n",
      "\n",
      "T_ 2 _ 3  :\n",
      "\n",
      "⎡cos(θ₃)  -sin(θ₃)  0  a₂⎤\n",
      "⎢                        ⎥\n",
      "⎢sin(θ₃)  cos(θ₃)   0  0 ⎥\n",
      "⎢                        ⎥\n",
      "⎢   0        0      1  0 ⎥\n",
      "⎢                        ⎥\n",
      "⎣   0        0      0  1 ⎦\n",
      "\n",
      "T_ 3 _ 4  :\n",
      "\n",
      "⎡cos(θ₄)  -sin(θ₄)  0  a₃⎤\n",
      "⎢                        ⎥\n",
      "⎢sin(θ₄)  cos(θ₄)   0  0 ⎥\n",
      "⎢                        ⎥\n",
      "⎢   0        0      1  d₄⎥\n",
      "⎢                        ⎥\n",
      "⎣   0        0      0  1 ⎦\n",
      "\n",
      "T_ 4 _ 5  :\n",
      "\n",
      "⎡cos(θ₅)   -sin(θ₅)  0  0 ⎤\n",
      "⎢                         ⎥\n",
      "⎢   0         0      1  d₅⎥\n",
      "⎢                         ⎥\n",
      "⎢-sin(θ₅)  -cos(θ₅)  0  0 ⎥\n",
      "⎢                         ⎥\n",
      "⎣   0         0      0  1 ⎦\n",
      "\n",
      "T_ 5 _ 6  :\n",
      "\n",
      "⎡cos(θ₆)  -sin(θ₆)  0    0 ⎤\n",
      "⎢                          ⎥\n",
      "⎢   0        0      -1  -d₆⎥\n",
      "⎢                          ⎥\n",
      "⎢sin(θ₆)  cos(θ₆)   0    0 ⎥\n",
      "⎢                          ⎥\n",
      "⎣   0        0      0    1 ⎦\n",
      "\n"
     ]
    }
   ],
   "source": [
    "# Define the symbolic variables\n",
    "num_symbols = 6  # Number of symbols to generate\n",
    "alpha_names = [f\"alpha{i}\" for i in range(num_symbols+1)]\n",
    "a_names = [f\"a{i}\" for i in range(num_symbols+1)]\n",
    "d_names = [f\"d{i}\" for i in range(num_symbols+1)]\n",
    "theta_names = [f\"theta{i}\" for i in range(num_symbols+1)]\n",
    "\n",
    "alpha = symbols(alpha_names)\n",
    "a = symbols(a_names)\n",
    "d = symbols(d_names)\n",
    "theta = symbols(theta_names)\n",
    "\n",
    "# Define DH table\n",
    "DH_param = [[0, 0, d[1], theta[1]],\n",
    "            [pi/2, 0, 0, theta[2]],\n",
    "            [0, a[2], 0, theta[3]],\n",
    "            [0, a[3], d[4], theta[4]],\n",
    "            [-pi/2, 0, d[5], theta[5]],\n",
    "            [pi/2, 0, d[6], theta[6]]]\n",
    "\n",
    "# find homogeneous transformations(T_i_i-1)                \n",
    "T = []\n",
    "for i in range(6):\n",
    "    T_temp = [[cos(DH_param[i][3]), -sin(DH_param[i][3]), 0, DH_param[i][1]],\n",
    "              [sin(DH_param[i][3])*cos(DH_param[i][0]),  cos(DH_param[i][3])*cos(DH_param[i][0]), -sin(DH_param[i][0]), -sin(DH_param[i][0])*(DH_param[i][2])],\n",
    "              [sin(DH_param[i][3])*sin(DH_param[i][0]), cos(DH_param[i][3])*sin(DH_param[i][0]), cos(DH_param[i][0]), cos(DH_param[i][0])*DH_param[i][2]],\n",
    "              [0, 0, 0, 1]]\n",
    "    T.append(T_temp)\n",
    "\n",
    "# print homogeneous transformations(T_i_i-1)\n",
    "for i in range(len(T)):\n",
    "    print('T_',i,'_',i+1,' :\\n')\n",
    "    pprint(Matrix(np.array(T[i])))\n",
    "    print()\n"
   ]
  },
  {
   "cell_type": "code",
   "execution_count": 123,
   "id": "23d747fe",
   "metadata": {},
   "outputs": [
    {
     "name": "stdout",
     "output_type": "stream",
     "text": [
      "T_0_6 : \n"
     ]
    },
    {
     "data": {
      "text/latex": [
       "$\\displaystyle \\left[\\begin{matrix}\\left(- \\sin{\\left(\\theta_{1} \\right)} \\sin{\\left(\\theta_{5} \\right)} + \\cos{\\left(\\theta_{1} \\right)} \\cos{\\left(\\theta_{5} \\right)} \\cos{\\left(\\theta_{2} + \\theta_{3} + \\theta_{4} \\right)}\\right) \\cos{\\left(\\theta_{6} \\right)} - \\sin{\\left(\\theta_{6} \\right)} \\sin{\\left(\\theta_{2} + \\theta_{3} + \\theta_{4} \\right)} \\cos{\\left(\\theta_{1} \\right)} & - \\left(- \\sin{\\left(\\theta_{1} \\right)} \\sin{\\left(\\theta_{5} \\right)} + \\cos{\\left(\\theta_{1} \\right)} \\cos{\\left(\\theta_{5} \\right)} \\cos{\\left(\\theta_{2} + \\theta_{3} + \\theta_{4} \\right)}\\right) \\sin{\\left(\\theta_{6} \\right)} - \\sin{\\left(\\theta_{2} + \\theta_{3} + \\theta_{4} \\right)} \\cos{\\left(\\theta_{1} \\right)} \\cos{\\left(\\theta_{6} \\right)} & \\sin{\\left(\\theta_{1} \\right)} \\cos{\\left(\\theta_{5} \\right)} + \\sin{\\left(\\theta_{5} \\right)} \\cos{\\left(\\theta_{1} \\right)} \\cos{\\left(\\theta_{2} + \\theta_{3} + \\theta_{4} \\right)} & a_{2} \\cos{\\left(\\theta_{1} \\right)} \\cos{\\left(\\theta_{2} \\right)} + a_{3} \\cos{\\left(\\theta_{1} \\right)} \\cos{\\left(\\theta_{2} + \\theta_{3} \\right)} + d_{4} \\sin{\\left(\\theta_{1} \\right)} - d_{5} \\sin{\\left(\\theta_{2} + \\theta_{3} + \\theta_{4} \\right)} \\cos{\\left(\\theta_{1} \\right)} + d_{6} \\left(\\sin{\\left(\\theta_{1} \\right)} \\cos{\\left(\\theta_{5} \\right)} + \\sin{\\left(\\theta_{5} \\right)} \\cos{\\left(\\theta_{1} \\right)} \\cos{\\left(\\theta_{2} + \\theta_{3} + \\theta_{4} \\right)}\\right)\\\\\\left(\\sin{\\left(\\theta_{1} \\right)} \\cos{\\left(\\theta_{5} \\right)} \\cos{\\left(\\theta_{2} + \\theta_{3} + \\theta_{4} \\right)} + \\sin{\\left(\\theta_{5} \\right)} \\cos{\\left(\\theta_{1} \\right)}\\right) \\cos{\\left(\\theta_{6} \\right)} - \\sin{\\left(\\theta_{1} \\right)} \\sin{\\left(\\theta_{6} \\right)} \\sin{\\left(\\theta_{2} + \\theta_{3} + \\theta_{4} \\right)} & - \\left(\\sin{\\left(\\theta_{1} \\right)} \\cos{\\left(\\theta_{5} \\right)} \\cos{\\left(\\theta_{2} + \\theta_{3} + \\theta_{4} \\right)} + \\sin{\\left(\\theta_{5} \\right)} \\cos{\\left(\\theta_{1} \\right)}\\right) \\sin{\\left(\\theta_{6} \\right)} - \\sin{\\left(\\theta_{1} \\right)} \\sin{\\left(\\theta_{2} + \\theta_{3} + \\theta_{4} \\right)} \\cos{\\left(\\theta_{6} \\right)} & \\sin{\\left(\\theta_{1} \\right)} \\sin{\\left(\\theta_{5} \\right)} \\cos{\\left(\\theta_{2} + \\theta_{3} + \\theta_{4} \\right)} - \\cos{\\left(\\theta_{1} \\right)} \\cos{\\left(\\theta_{5} \\right)} & a_{2} \\sin{\\left(\\theta_{1} \\right)} \\cos{\\left(\\theta_{2} \\right)} + a_{3} \\sin{\\left(\\theta_{1} \\right)} \\cos{\\left(\\theta_{2} + \\theta_{3} \\right)} - d_{4} \\cos{\\left(\\theta_{1} \\right)} - d_{5} \\sin{\\left(\\theta_{1} \\right)} \\sin{\\left(\\theta_{2} + \\theta_{3} + \\theta_{4} \\right)} - d_{6} \\left(- \\sin{\\left(\\theta_{1} \\right)} \\sin{\\left(\\theta_{5} \\right)} \\cos{\\left(\\theta_{2} + \\theta_{3} + \\theta_{4} \\right)} + \\cos{\\left(\\theta_{1} \\right)} \\cos{\\left(\\theta_{5} \\right)}\\right)\\\\\\sin{\\left(\\theta_{6} \\right)} \\cos{\\left(\\theta_{2} + \\theta_{3} + \\theta_{4} \\right)} + \\sin{\\left(\\theta_{2} + \\theta_{3} + \\theta_{4} \\right)} \\cos{\\left(\\theta_{5} \\right)} \\cos{\\left(\\theta_{6} \\right)} & - \\sin{\\left(\\theta_{6} \\right)} \\sin{\\left(\\theta_{2} + \\theta_{3} + \\theta_{4} \\right)} \\cos{\\left(\\theta_{5} \\right)} + \\cos{\\left(\\theta_{6} \\right)} \\cos{\\left(\\theta_{2} + \\theta_{3} + \\theta_{4} \\right)} & \\sin{\\left(\\theta_{5} \\right)} \\sin{\\left(\\theta_{2} + \\theta_{3} + \\theta_{4} \\right)} & a_{2} \\sin{\\left(\\theta_{2} \\right)} + a_{3} \\sin{\\left(\\theta_{2} + \\theta_{3} \\right)} + d_{1} + d_{5} \\cos{\\left(\\theta_{2} + \\theta_{3} + \\theta_{4} \\right)} + d_{6} \\sin{\\left(\\theta_{5} \\right)} \\sin{\\left(\\theta_{2} + \\theta_{3} + \\theta_{4} \\right)}\\\\0 & 0 & 0 & 1\\end{matrix}\\right]$"
      ],
      "text/plain": [
       "Matrix([\n",
       "[(-sin(theta1)*sin(theta5) + cos(theta1)*cos(theta5)*cos(theta2 + theta3 + theta4))*cos(theta6) - sin(theta6)*sin(theta2 + theta3 + theta4)*cos(theta1), -(-sin(theta1)*sin(theta5) + cos(theta1)*cos(theta5)*cos(theta2 + theta3 + theta4))*sin(theta6) - sin(theta2 + theta3 + theta4)*cos(theta1)*cos(theta6), sin(theta1)*cos(theta5) + sin(theta5)*cos(theta1)*cos(theta2 + theta3 + theta4),  a2*cos(theta1)*cos(theta2) + a3*cos(theta1)*cos(theta2 + theta3) + d4*sin(theta1) - d5*sin(theta2 + theta3 + theta4)*cos(theta1) + d6*(sin(theta1)*cos(theta5) + sin(theta5)*cos(theta1)*cos(theta2 + theta3 + theta4))],\n",
       "[ (sin(theta1)*cos(theta5)*cos(theta2 + theta3 + theta4) + sin(theta5)*cos(theta1))*cos(theta6) - sin(theta1)*sin(theta6)*sin(theta2 + theta3 + theta4),  -(sin(theta1)*cos(theta5)*cos(theta2 + theta3 + theta4) + sin(theta5)*cos(theta1))*sin(theta6) - sin(theta1)*sin(theta2 + theta3 + theta4)*cos(theta6), sin(theta1)*sin(theta5)*cos(theta2 + theta3 + theta4) - cos(theta1)*cos(theta5), a2*sin(theta1)*cos(theta2) + a3*sin(theta1)*cos(theta2 + theta3) - d4*cos(theta1) - d5*sin(theta1)*sin(theta2 + theta3 + theta4) - d6*(-sin(theta1)*sin(theta5)*cos(theta2 + theta3 + theta4) + cos(theta1)*cos(theta5))],\n",
       "[                                                     sin(theta6)*cos(theta2 + theta3 + theta4) + sin(theta2 + theta3 + theta4)*cos(theta5)*cos(theta6),                                                      -sin(theta6)*sin(theta2 + theta3 + theta4)*cos(theta5) + cos(theta6)*cos(theta2 + theta3 + theta4),                                       sin(theta5)*sin(theta2 + theta3 + theta4),                                                                                          a2*sin(theta2) + a3*sin(theta2 + theta3) + d1 + d5*cos(theta2 + theta3 + theta4) + d6*sin(theta5)*sin(theta2 + theta3 + theta4)],\n",
       "[                                                                                                                                                     0,                                                                                                                                                       0,                                                                               0,                                                                                                                                                                                                                        1]])"
      ]
     },
     "execution_count": 123,
     "metadata": {},
     "output_type": "execute_result"
    }
   ],
   "source": [
    "# find T_0_6 and print it\n",
    "result = T[0]\n",
    "for n in range(1,len(T)):\n",
    "    # Multiply the matrices\n",
    "    result = [[sum(result[i][k] * T[n][k][j] for k in range(4)) for j in range(4)] for i in range(4)]\n",
    "# Simplify the result according to cosine multiplication rules\n",
    "simplified_result = [[trigsimp(expr) for expr in row] for row in result]\n",
    "\n",
    "# Print the simplified result\n",
    "print('T_0_6 : ')\n",
    "Matrix(np.array(simplified_result))"
   ]
  },
  {
   "cell_type": "code",
   "execution_count": 124,
   "id": "f1ea9095",
   "metadata": {},
   "outputs": [],
   "source": [
    "def forward(theta):\n",
    "    DH = [[0, 0, 0.128, theta[0]],\n",
    "          [pi/2, 0, 0, theta[1]],\n",
    "          [0, 0.6129, 0, theta[2]],\n",
    "          [0, 0.5716, 0.1639, theta[3]],\n",
    "          [-pi/2, 0, 0.1157, theta[4]],\n",
    "          [pi/2, 0, 0.0922, theta[5]]]\n",
    "    # find homogeneous transformations(T_i_i-1)                \n",
    "    T = []\n",
    "    for i in range(6):\n",
    "        T_temp = [[cos(DH_param[i][3]), -sin(DH_param[i][3]), 0, DH_param[i][1]],\n",
    "              [sin(DH_param[i][3])*cos(DH_param[i][0]),  cos(DH_param[i][3])*cos(DH_param[i][0]), -sin(DH_param[i][0]), -sin(DH_param[i][0])*(DH_param[i][2])],\n",
    "              [sin(DH_param[i][3])*sin(DH_param[i][0]), cos(DH_param[i][3])*sin(DH_param[i][0]), cos(DH_param[i][0]), cos(DH_param[i][0])*DH_param[i][2]],\n",
    "              [0, 0, 0, 1]]\n",
    "        T.append(T_temp)\n",
    "        \n",
    "    # find T_0_6 and print it\n",
    "    result = T[0]\n",
    "    for n in range(1,len(T)):\n",
    "        # Multiply the matrices\n",
    "        result = [[sum(result[i][k] * T[n][k][j] for k in range(4)) for j in range(4)] for i in range(4)]\n",
    "    #T_res = np.array(T[0])@np.array(T[1])@np.array(T[2])@np.array(T[3])@np.array(T[4])@np.array(T[5])\n",
    "    return result"
   ]
  },
  {
   "cell_type": "code",
   "execution_count": 112,
   "id": "cce1e14b",
   "metadata": {},
   "outputs": [],
   "source": [
    "def forward_version2(theta):\n",
    "    theta1, theta2, theta3, theta4, theta5, theta6 = theta\n",
    "    FK = Matrix(np.array(simplified_result)).subs({'d1':0.128, 'd4': 0.1639, 'd5':0.1157, 'd6':0.0922, 'a2':0.6129, 'a3':0.5716,\n",
    "                                             'theta1':theta1, 'theta2':theta2, 'theta3':theta3, 'theta4':theta4, \n",
    "                                              'theta5':theta5, 'theta6':theta6})\n",
    "    return np.array(FK).tolist()"
   ]
  },
  {
   "cell_type": "markdown",
   "id": "696576b1",
   "metadata": {},
   "source": [
    "## Part2\n",
    "### Inverse Kinematics"
   ]
  },
  {
   "cell_type": "code",
   "execution_count": 125,
   "id": "50d3be01",
   "metadata": {},
   "outputs": [],
   "source": [
    "def inverse(T):\n",
    "    # define DH table\n",
    "    DH = [[0, 0, 0.128, theta[0]],\n",
    "          [pi/2, 0, 0, theta[1]],\n",
    "          [0, 0.6129, 0, theta[2]],\n",
    "          [0, 0.5716, 0.1639, theta[3]],\n",
    "          [-pi/2, 0, 0.1157, theta[4]],\n",
    "          [pi/2, 0, 0.0922, theta[5]]]\n",
    "    \n",
    "    # define theta database\n",
    "    theta_db = []\n",
    "    \n",
    "    # define variables for each element of T\n",
    "    [[r11, r12, r13, px],\n",
    "     [r21, r22, r23, py],\n",
    "     [r31, r32, r33, pz]] = T[0:3]\n",
    "    \n",
    "    # step1)find theta1\n",
    "    a = py-DH[5][2]*r23\n",
    "    b = DH[5][2]*r13-px\n",
    "    c = -DH[3][2]\n",
    "    theta_db.append(2*math.atan((b+math.sqrt(b**2+a**2-c**2))/(a+c)))\n",
    "    theta_db.append(2*math.atan((b-math.sqrt(b**2+a**2-c**2))/(a+c)))\n",
    "    \n",
    "    # step2)find theta5\n",
    "    theta_temp = []\n",
    "    for theta1 in theta_db:\n",
    "        c5 = r13*math.sin(theta1)-r23*math.cos(theta1)\n",
    "        s5 = [math.sqrt(1-(c5)**2),-math.sqrt(1-(c5)**2)]\n",
    "        theta_temp.append([theta1,math.atan2(s5[0],c5)])\n",
    "        theta_temp.append([theta1,math.atan2(s5[1],c5)])\n",
    "    theta_db = theta_temp   \n",
    "    \n",
    "    # step3) find theta2+theta3+theta4\n",
    "    theta_temp = []\n",
    "    flag = []\n",
    "    for theta_list in theta_db:\n",
    "        theta1 = theta_list[0]\n",
    "        theta5 = theta_list[1]\n",
    "        theta234 = []\n",
    "        if round(theta5,4) == 0:\n",
    "            gamma = math.atan2(r31, r32)\n",
    "            Q1 = r31\n",
    "            Q2 = r11*math.cos(theta1) + r21*math.sin(theta1)\n",
    "            b = Q1*math.sin(gamma) + Q2*math.cos(gamma) - 1\n",
    "            a = Q2*math.sin(gamma) - Q1*math.cos(gamma)\n",
    "            theta234 = [2*math.atan((b+math.sqrt(b**2+a**2))/a), 2*math.atan((b-math.sqrt(b**2+a**2))/a)]\n",
    "            flag.append('0')\n",
    "            flag.append('0')\n",
    "        elif round(theta5,4) == pi or round(theta5,4) == -pi:\n",
    "            gamma_prim = math.atan2(-r31, r32)\n",
    "            Q1 = r31\n",
    "            Q2 = r11*math.cos(theta1) + r21*math.sin(theta1)\n",
    "            b_prim = Q1*math.sin(gamma_prim) - Q2*math.cos(gamma_prim) - 1\n",
    "            a_prim = Q2*math.sin(gamma_prim) + Q1*math.cos(gamma_prim)\n",
    "            theta234 = [2*math.atan((b_prim+math.sqrt(b_prim**2+a_prim**2))/a_prim), 2*math.atan((b_prim-math.sqrt(b_prim**2+a_prim**2))/a_prim)]\n",
    "            flag.append('180')\n",
    "            flag.append('180')\n",
    "        else:\n",
    "            #c234 = (r13-math.sin(theta1)*math.cos(theta5))/(math.sin(theta5)*math.cos(theta1))\n",
    "            s234 = r33/math.sin(theta5)\n",
    "            c234 = [math.sqrt(1-s234**2), -math.sqrt(1-s234**2)]\n",
    "            theta234 = [math.atan2(s234,c234[0]), math.atan2(s234,c234[1])]\n",
    "            flag.append('ok')\n",
    "            flag.append('ok')\n",
    "        theta_temp.append([theta1, theta5, theta234[0]])      \n",
    "        theta_temp.append([theta1, theta5, theta234[1]])\n",
    "        \n",
    "    theta_db = theta_temp \n",
    "\n",
    "    # step4) find theta6\n",
    "    theta_temp = []\n",
    "    i = 0\n",
    "    for theta_list in theta_db:\n",
    "        theta1, theta5, theta234 = theta_list\n",
    "        theta6 = None\n",
    "        if flag[i] == '0':\n",
    "            gamma = math.atan2(r31, r32)\n",
    "            theta6 = gamma - theta234\n",
    "        elif flag[i] == '180':\n",
    "            gamma_prim = math.atan2(-r31, r32)\n",
    "            theta6 = theta234 - gamma_prim\n",
    "        else:\n",
    "            k1, k2 = math.cos(theta234), math.sin(theta234)*math.cos(theta5)\n",
    "            theta6 = math.atan2(r31,r32)-math.atan2(k2,k1)\n",
    "        theta_temp.append([theta1, theta5, theta234, theta6])\n",
    "        i+=1\n",
    "    theta_db = theta_temp\n",
    "    \n",
    "    # step5) find theta3, theta2, theta4\n",
    "    theta_temp = []\n",
    "    i=0\n",
    "    for theta_list in theta_db:\n",
    "        theta1, theta5, theta234, theta6 = theta_list        \n",
    "        \n",
    "        d1, d4, d5, d6 = DH[0][2], DH[3][2], DH[4][2], DH[5][2]\n",
    "        a2, a3 = DH[2][1], DH[3][1]\n",
    "        if round(theta1,4) == 0 or round(theta1,4) == pi or round(theta1,4) == -pi:\n",
    "            F1 = -d5*math.sin(theta234)*math.cos(theta1)+d6*math.sin(theta5)*math.cos(theta1)*math.cos(theta234)\n",
    "            F2 = d1+d5*math.cos(theta234)+d6*math.sin(theta5)*math.sin(theta234)\n",
    "            X = (px - F1)/math.cos(theta1)\n",
    "            Z = pz - F2\n",
    "            # 5_1) find theta3\n",
    "            c3 = (X**2 + Z**2 - a2**2 - a3**2)/(2*a2*a3)\n",
    "            s3 = [math.sqrt(1-c3**2), -math.sqrt(1-c3**2)]\n",
    "            theta_3_list = [math.atan2(s3[0], c3), math.atan2(s3[1], c3)]\n",
    "            # 5_2) find theta2 and theta4\n",
    "            for theta3 in theta_3_list:\n",
    "                Q1 = a2 + a3*math.cos(theta3)\n",
    "                Q2 = a3*math.sin(theta3)\n",
    "                theta2 = math.atan2(Z,X) - math.atan2(Q2, Q1)\n",
    "                theta4 = theta234 - theta3 - theta2\n",
    "                theta_temp.append([theta1, theta2, theta3, theta4, theta5, theta6])\n",
    "        else:\n",
    "            F2 = (py+d4*math.cos(theta1)+d5*math.sin(theta234)*math.sin(theta1)+d6*(math.cos(theta1)*math.cos(theta5)-math.sin(theta1)*math.sin(theta5)*math.cos(theta234)))/math.sin(theta1)\n",
    "            F3 = pz-(d1+d5*math.cos(theta234)+d6*math.sin(theta5)*math.sin(theta234))\n",
    "\n",
    "            # 5_1) find theta3\n",
    "            c3 = ((F2)**2 +(F3)**2 - (a2)**2 - (a3)**2)/(2*(a2)*(a3))\n",
    "            s3 = [math.sqrt(1-(c3)**2), -math.sqrt(1-(c3)**2)]\n",
    "            theta_3_list = [math.atan2(s3[0], c3), math.atan2(s3[1], c3)]\n",
    "            # 5_2) find theta2 and theta4\n",
    "            for theta3 in theta_3_list:\n",
    "                Q1 = a2 + a3*math.cos(theta3)\n",
    "                Q2 = a3*math.sin(theta3)\n",
    "                theta2 = math.atan2(F3,F2) - math.atan2(Q2, Q1)\n",
    "                theta4 = theta234 - theta3 - theta2\n",
    "                theta_temp.append([theta1, theta2, theta3, theta4, theta5, theta6])\n",
    "            \n",
    "    theta_db = theta_temp\n",
    "    return theta_db"
   ]
  },
  {
   "cell_type": "markdown",
   "id": "6286269d",
   "metadata": {},
   "source": [
    "## Inverse Kinematics (Geometric approach)"
   ]
  },
  {
   "cell_type": "code",
   "execution_count": 126,
   "id": "e1cd4598",
   "metadata": {},
   "outputs": [],
   "source": [
    "def inverse2(T_inp):\n",
    "    # define DH table\n",
    "    DH = [[0, 0, 0.128, theta[0]],\n",
    "          [pi/2, 0, 0, theta[1]],\n",
    "          [0, 0.6129, 0, theta[2]],\n",
    "          [0, 0.5716, 0.1639, theta[3]],\n",
    "          [-pi/2, 0, 0.1157, theta[4]],\n",
    "          [pi/2, 0, 0.0922, theta[5]]]\n",
    "    \n",
    "    # define theta database\n",
    "    theta_db = []\n",
    "    \n",
    "    # define variables for each element of T\n",
    "    [[nx, ox, ax, px],\n",
    "     [ny, oy, ay, py],\n",
    "     [nz, oz, az, pz]] = T_inp[0:3]\n",
    "    \n",
    "    # step1) find theta1\n",
    "    d6 = DH[5][2]\n",
    "    d4 = DH[3][2]\n",
    "    theta1 = [math.atan2(py-d6*ay, px-d6*ax)+math.acos(d4/(math.sqrt((px-d6*ax)**2+(py-d6*ay)**2)))+(math.pi/2),\n",
    "             math.atan2(py-d6*ay, px-d6*ax)-math.acos(d4/(math.sqrt((px-d6*ax)**2+(py-d6*ay)**2)))+(math.pi/2)]\n",
    "    theta_db.append(theta1[0])\n",
    "    theta_db.append(theta1[1])\n",
    "    \n",
    "    # step2) find theta5\n",
    "    d4 = DH[3][2]\n",
    "    p_0_6_x = px\n",
    "    p_0_6_y = py\n",
    "    theta_temp = []\n",
    "    for th1 in theta_db:\n",
    "        theta5 = [math.acos((p_0_6_x*math.sin(th1) - p_0_6_y*math.cos(th1)-d4)/d6), \n",
    "                  -math.acos((p_0_6_x*math.sin(th1) - p_0_6_y*math.cos(th1)-d4)/d6)]\n",
    "        theta_temp.append([th1, theta5[0]])\n",
    "        theta_temp.append([th1, theta5[1]])\n",
    "    theta_db = theta_temp\n",
    "    \n",
    "    # step3) find theta6\n",
    "    theta6 = []\n",
    "    theta_temp = []\n",
    "    for th in theta_db:\n",
    "        theta1, theta5 = th\n",
    "        if round(theta5,4)==0 or round(theta5,4)==math.pi or round(theta5,4)==-math.pi or round(theta5,4)==2*math.pi:\n",
    "            continue\n",
    "        th6=math.atan2((-ox*math.sin(theta1)+oy*math.cos(theta1))/math.sin(theta5),(nx*math.sin(theta1)-ny*math.cos(theta1))/math.sin(theta5))\n",
    "        theta_temp.append([theta1, theta5, th6])\n",
    "        theta6.append(th6)\n",
    "        \n",
    "    if len(theta6) == 0:\n",
    "        print('Theta5 is singular')\n",
    "        return 0\n",
    "    theta_db = theta_temp\n",
    "    \n",
    "    # step4) find theta 2,3,4\n",
    "    a2 = DH[2][1]\n",
    "    a3 = DH[3][1]\n",
    "    theta_temp = []\n",
    "    for th in theta_db:\n",
    "        theta1, theta5, theta6 = th\n",
    "        T_0_1 = T[0]\n",
    "        T_4_5 = T[4]\n",
    "        T_5_6 = T[5]\n",
    "        T_0_1_inv = Matrix(T_0_1).inv().subs({'d1':DH[0][2], 'theta1': theta1}).evalf()\n",
    "        T_4_5_inv = Matrix(T_4_5).inv().subs({'d5':DH[4][2], 'theta5': theta5}).evalf()\n",
    "        T_5_6_inv = Matrix(T_5_6).inv().subs({'d6':DH[5][2], 'theta6': theta6}).evalf()\n",
    "        T_1_4 = T_0_1_inv*Matrix(T_inp)*T_5_6_inv*T_4_5_inv\n",
    "        [[n4x, ox, ax, p4x],\n",
    "         [ny, oy, ay, py],\n",
    "         [n4z, oz, az, p4z]] = np.array(T_0_1_inv).tolist()[0:3]\n",
    "        theta3 = [math.acos((p4x**2+p4z**2-a2**2-a3**2)/(2*a2*a3)), -math.acos((p4x**2+p4z**2-a2**2-a3**2)/(2*a2*a3))]\n",
    "        theta2 = [math.atan2((a3*math.cos(theta3[0])+a2)*p4z-a3*math.sin(theta3[0])*p4x, (a3*math.cos(theta3[0])+a2)*p4x+a3*math.sin(theta3[0])*p4z),\n",
    "                  math.atan2((a3*math.cos(theta3[1])+a2)*p4z-a3*math.sin(theta3[1])*p4x, (a3*math.cos(theta3[1])+a2)*p4x+a3*math.sin(theta3[1])*p4z)]\n",
    "        theta4 = [math.atan2(n4z,n4x)-theta2[0]-theta3[0], math.atan2(n4z,n4x)-theta2[1]-theta3[1]]\n",
    "        theta_temp.append([theta1, theta2[0], theta3[0], theta4[0], theta5, theta6])\n",
    "        theta_temp.append([theta1, theta2[1], theta3[1], theta4[1], theta5, theta6])\n",
    "        \n",
    "    theta_db = theta_temp\n",
    "    return theta_db "
   ]
  },
  {
   "cell_type": "markdown",
   "id": "e259ae18",
   "metadata": {},
   "source": [
    "## Some examples of forward kinematics"
   ]
  },
  {
   "cell_type": "markdown",
   "id": "40ed15bc",
   "metadata": {},
   "source": [
    "### A) Zero state\n",
    "- in this state all joint variables have zero value"
   ]
  },
  {
   "cell_type": "code",
   "execution_count": 115,
   "id": "569f3dd3",
   "metadata": {},
   "outputs": [
    {
     "name": "stdout",
     "output_type": "stream",
     "text": [
      "T_0_6 : \n",
      "[1, 0, 0, 1.18450000000000]\n",
      "[0, 0, -1, -0.256100000000000]\n",
      "[0, 1, 0, 0.0123000000000000]\n",
      "[0, 0, 0, 1]\n"
     ]
    }
   ],
   "source": [
    "theta1 = math.radians(0)\n",
    "theta2 = math.radians(0)\n",
    "theta3 = math.radians(0)\n",
    "theta4 = math.radians(0)\n",
    "theta5 = math.radians(0)\n",
    "theta6 = math.radians(0)\n",
    "\n",
    "desired_theta = [theta1, theta2, theta3, theta4, theta5, theta6]\n",
    "T_0_6_A = forward_version2(desired_theta)\n",
    "\n",
    "print('T_0_6 : ')\n",
    "for row in T_0_6_A:\n",
    "    print(row)"
   ]
  },
  {
   "cell_type": "markdown",
   "id": "2c25118c",
   "metadata": {},
   "source": [
    "### B) fully-stretched state\n",
    "- We have below values for joint variables in fully-stretched state: \n",
    "\n",
    "theta1 = arbitrary   |   theta2 = 0   |   theta3 = 90  |  theta4 = 0  |  theta5 = -90  |  theta6 = arbitrary \n",
    "\n",
    "We consider theta1 = -20 and theta6 = 60 degrees."
   ]
  },
  {
   "cell_type": "code",
   "execution_count": 116,
   "id": "70424f2d",
   "metadata": {
    "scrolled": true
   },
   "outputs": [
    {
     "name": "stdout",
     "output_type": "stream",
     "text": [
      "T_0_6 : \n",
      "[0.353553390593274, -0.612372435695795, 0.707106781186547, 0.181090046661875]\n",
      "[0.353553390593274, -0.612372435695794, -0.707106781186548, -0.181090046661875]\n",
      "[0.866025403784439, 0.500000000000000, 0, 1.19680000000000]\n",
      "[0, 0, 0, 1]\n"
     ]
    }
   ],
   "source": [
    "theta1 = math.radians(45)\n",
    "theta2 = math.radians(90)\n",
    "theta3 = math.radians(0)\n",
    "theta4 = math.radians(-90)\n",
    "theta5 = math.radians(0)\n",
    "theta6 = math.radians(60)\n",
    "\n",
    "desired_theta = [theta1, theta2, theta3, theta4, theta5, theta6]\n",
    "T_0_6_B = forward_version2(desired_theta)\n",
    "\n",
    "print('T_0_6 : ')\n",
    "for row in T_0_6_B:\n",
    "    print(row)"
   ]
  },
  {
   "cell_type": "markdown",
   "id": "81febbbd",
   "metadata": {},
   "source": [
    "### C) Arbitrary state\n",
    "- We have below values for joint variables in arbitrary state: \n",
    "\n",
    "theta1 = 30 | theta2 = 45 | theta3 = 26 | theta4 = 50 | theta5 = 60 | theta6 = 80"
   ]
  },
  {
   "cell_type": "code",
   "execution_count": 117,
   "id": "164bfc1f",
   "metadata": {},
   "outputs": [
    {
     "name": "stdout",
     "output_type": "stream",
     "text": [
      "T_0_6 : \n",
      "[-0.694585825014751, -0.335708401191927, 0.636278556182541, 0.762988161563082]\n",
      "[-0.574667490714495, 0.790986417214830, -0.209994673498050, 0.198024307407300]\n",
      "[-0.432790719406602, -0.511507924817209, -0.742328657701364, 1.09299136702883]\n",
      "[0, 0, 0, 1]\n"
     ]
    }
   ],
   "source": [
    "theta1 = math.radians(30)\n",
    "theta2 = math.radians(45)\n",
    "theta3 = math.radians(26)\n",
    "theta4 = math.radians(50)\n",
    "theta5 = math.radians(60)\n",
    "theta6 = math.radians(80)\n",
    "\n",
    "desired_theta = [theta1, theta2, theta3, theta4, theta5, theta6]\n",
    "T_0_6_C = forward_version2(desired_theta)\n",
    "\n",
    "print('T_0_6 : ')\n",
    "for row in T_0_6_C:\n",
    "    print(row)"
   ]
  },
  {
   "cell_type": "markdown",
   "id": "ce35c013",
   "metadata": {},
   "source": [
    "## Some examples of inverse kinematics"
   ]
  },
  {
   "cell_type": "markdown",
   "id": "ef0837d1",
   "metadata": {},
   "source": [
    "### A) Zero state\n",
    "- We gave zero values to joint varibles in forward kinematics and it took us Transformation matrix (T_0_6_first) as a result. now we give this matrix as an input to inverse function."
   ]
  },
  {
   "cell_type": "code",
   "execution_count": 118,
   "id": "fedf45bf",
   "metadata": {},
   "outputs": [
    {
     "data": {
      "text/plain": [
       "[[1, 0, 0, 1.18450000000000],\n",
       " [0, 0, -1, -0.256100000000000],\n",
       " [0, 1, 0, 0.0123000000000000],\n",
       " [0, 0, 0, 1]]"
      ]
     },
     "execution_count": 118,
     "metadata": {},
     "output_type": "execute_result"
    }
   ],
   "source": [
    "T_0_6_A "
   ]
  },
  {
   "cell_type": "code",
   "execution_count": 119,
   "id": "14f96a39",
   "metadata": {},
   "outputs": [
    {
     "name": "stdout",
     "output_type": "stream",
     "text": [
      "ans 1  theta1:  164.24  theta2:  -155.4  theta3:  168.25  theta4:  167.15  theta5:  164.24  theta6:  0.0\n",
      "ans 2  theta1:  164.24  theta2:  -24.6  theta3:  -168.25  theta4:  372.85  theta5:  164.24  theta6:  0.0\n",
      "ans 3  theta1:  164.24  theta2:  -155.4  theta3:  168.25  theta4:  167.15  theta5:  -164.24  theta6:  180.0\n",
      "ans 4  theta1:  164.24  theta2:  -24.6  theta3:  -168.25  theta4:  372.85  theta5:  -164.24  theta6:  180.0\n"
     ]
    }
   ],
   "source": [
    "theta_A = inverse2(T_0_6_A)\n",
    "i = 0\n",
    "for th in theta_A:\n",
    "    i += 1\n",
    "    print(\"ans\",i,\" theta1: \",round(degrees(th[0]),2),\" theta2: \",round(degrees(th[1]),2),\" theta3: \",round(degrees(th[2]),2),\n",
    "          \" theta4: \",round(degrees(th[3]),2),\" theta5: \",round(degrees(th[4]),2), \" theta6: \",round(degrees(th[5]),2))"
   ]
  },
  {
   "cell_type": "markdown",
   "id": "c97862c6",
   "metadata": {},
   "source": [
    "### B) fully-stretched state\n",
    "- We should use T_0_6_B as input and get the below angles in results: \n",
    "\n",
    "theta1 = 45 | theta2 = 90 | theta3 = 0 | theta4 = -90 | theta5 = 0 | theta6 = 60"
   ]
  },
  {
   "cell_type": "code",
   "execution_count": 120,
   "id": "f29867b6",
   "metadata": {},
   "outputs": [
    {
     "data": {
      "text/plain": [
       "[[0.353553390593274, -0.612372435695795, 0.707106781186547, 0.181090046661875],\n",
       " [0.353553390593274,\n",
       "  -0.612372435695794,\n",
       "  -0.707106781186548,\n",
       "  -0.181090046661875],\n",
       " [0.866025403784439, 0.500000000000000, 0, 1.19680000000000],\n",
       " [0, 0, 0, 1]]"
      ]
     },
     "execution_count": 120,
     "metadata": {},
     "output_type": "execute_result"
    }
   ],
   "source": [
    "T_0_6_B"
   ]
  },
  {
   "cell_type": "code",
   "execution_count": 121,
   "id": "c512b503",
   "metadata": {},
   "outputs": [
    {
     "name": "stdout",
     "output_type": "stream",
     "text": [
      "Theta5 is singular\n"
     ]
    },
    {
     "ename": "TypeError",
     "evalue": "'int' object is not iterable",
     "output_type": "error",
     "traceback": [
      "\u001b[1;31m---------------------------------------------------------------------------\u001b[0m",
      "\u001b[1;31mTypeError\u001b[0m                                 Traceback (most recent call last)",
      "Input \u001b[1;32mIn [121]\u001b[0m, in \u001b[0;36m<cell line: 3>\u001b[1;34m()\u001b[0m\n\u001b[0;32m      1\u001b[0m theta_B \u001b[38;5;241m=\u001b[39m inverse2(T_0_6_B)\n\u001b[0;32m      2\u001b[0m i \u001b[38;5;241m=\u001b[39m \u001b[38;5;241m0\u001b[39m\n\u001b[1;32m----> 3\u001b[0m \u001b[38;5;28;01mfor\u001b[39;00m th \u001b[38;5;129;01min\u001b[39;00m theta_B:\n\u001b[0;32m      4\u001b[0m     i \u001b[38;5;241m+\u001b[39m\u001b[38;5;241m=\u001b[39m \u001b[38;5;241m1\u001b[39m\n\u001b[0;32m      5\u001b[0m     \u001b[38;5;28mprint\u001b[39m(\u001b[38;5;124m\"\u001b[39m\u001b[38;5;124mans\u001b[39m\u001b[38;5;124m\"\u001b[39m,i,\u001b[38;5;124m\"\u001b[39m\u001b[38;5;124m theta1: \u001b[39m\u001b[38;5;124m\"\u001b[39m,\u001b[38;5;28mround\u001b[39m(degrees(th[\u001b[38;5;241m0\u001b[39m]),\u001b[38;5;241m2\u001b[39m),\u001b[38;5;124m\"\u001b[39m\u001b[38;5;124m theta2: \u001b[39m\u001b[38;5;124m\"\u001b[39m,\u001b[38;5;28mround\u001b[39m(degrees(th[\u001b[38;5;241m1\u001b[39m]),\u001b[38;5;241m2\u001b[39m),\u001b[38;5;124m\"\u001b[39m\u001b[38;5;124m theta3: \u001b[39m\u001b[38;5;124m\"\u001b[39m,\u001b[38;5;28mround\u001b[39m(degrees(th[\u001b[38;5;241m2\u001b[39m]),\u001b[38;5;241m2\u001b[39m),\n\u001b[0;32m      6\u001b[0m           \u001b[38;5;124m\"\u001b[39m\u001b[38;5;124m theta4: \u001b[39m\u001b[38;5;124m\"\u001b[39m,\u001b[38;5;28mround\u001b[39m(degrees(th[\u001b[38;5;241m3\u001b[39m]),\u001b[38;5;241m2\u001b[39m),\u001b[38;5;124m\"\u001b[39m\u001b[38;5;124m theta5: \u001b[39m\u001b[38;5;124m\"\u001b[39m,\u001b[38;5;28mround\u001b[39m(degrees(th[\u001b[38;5;241m4\u001b[39m]),\u001b[38;5;241m2\u001b[39m), \u001b[38;5;124m\"\u001b[39m\u001b[38;5;124m theta6: \u001b[39m\u001b[38;5;124m\"\u001b[39m,\u001b[38;5;28mround\u001b[39m(degrees(th[\u001b[38;5;241m5\u001b[39m]),\u001b[38;5;241m2\u001b[39m))\n",
      "\u001b[1;31mTypeError\u001b[0m: 'int' object is not iterable"
     ]
    }
   ],
   "source": [
    "theta_B = inverse2(T_0_6_B)\n",
    "i = 0\n",
    "for th in theta_B:\n",
    "    i += 1\n",
    "    print(\"ans\",i,\" theta1: \",round(degrees(th[0]),2),\" theta2: \",round(degrees(th[1]),2),\" theta3: \",round(degrees(th[2]),2),\n",
    "          \" theta4: \",round(degrees(th[3]),2),\" theta5: \",round(degrees(th[4]),2), \" theta6: \",round(degrees(th[5]),2))"
   ]
  },
  {
   "cell_type": "markdown",
   "id": "a1567588",
   "metadata": {},
   "source": [
    "### C) Arbitrary state\n",
    "- We should use T_0_6_B as input and get the below angles in results: \n",
    "\n",
    "theta1 = 30 | theta2 = 45 | theta3 = 26 | theta4 = 50 | theta5 = 60 | theta6 = 80"
   ]
  },
  {
   "cell_type": "code",
   "execution_count": 88,
   "id": "164f228d",
   "metadata": {},
   "outputs": [
    {
     "data": {
      "text/plain": [
       "[[-0.844969558195186,\n",
       "  0.517160130760516,\n",
       "  -0.136278556182541,\n",
       "  0.519978544410926],\n",
       " [-0.314195224214099,\n",
       "  -0.686225212303482,\n",
       "  -0.656030730286389,\n",
       "  0.0577341865342189],\n",
       " [-0.432790719406602, -0.511507924817209, 0.742328657701364, 1.11069696097478],\n",
       " [0, 0, 0, 1]]"
      ]
     },
     "execution_count": 88,
     "metadata": {},
     "output_type": "execute_result"
    }
   ],
   "source": [
    "T_0_6_C"
   ]
  },
  {
   "cell_type": "code",
   "execution_count": 94,
   "id": "25440f0e",
   "metadata": {
    "scrolled": true
   },
   "outputs": [
    {
     "name": "stdout",
     "output_type": "stream",
     "text": [
      "ans 1  theta1:  30.0  theta2:  27.51  theta3:  63.13  theta4:  -31.64  theta5:  60.0  theta6:  -179.53\n",
      "ans 2  theta1:  30.0  theta2:  88.18  theta3:  -63.13  theta4:  33.94  theta5:  60.0  theta6:  -179.53\n",
      "ans 3  theta1:  30.0  theta2:  45.0  theta3:  26.0  theta4:  50.0  theta5:  60.0  theta6:  -280.0\n",
      "ans 4  theta1:  30.0  theta2:  70.08  theta3:  -26.0  theta4:  76.92  theta5:  60.0  theta6:  -280.0\n",
      "ans 5  theta1:  30.0  theta2:  28.77  theta3:  72.95  theta4:  -160.72  theta5:  -60.0  theta6:  -100.0\n",
      "ans 6  theta1:  30.0  theta2:  98.77  theta3:  -72.95  theta4:  -84.82  theta5:  -60.0  theta6:  -100.0\n",
      "ans 7  theta1:  30.0  theta2:  42.44  theta3:  59.0  theta4:  -222.45  theta5:  -60.0  theta6:  0.47\n",
      "ans 8  theta1:  30.0  theta2:  99.18  theta3:  -59.0  theta4:  -161.18  theta5:  -60.0  theta6:  0.47\n",
      "ans 9  theta1:  175.03  theta2:  82.09  theta3:  66.85  theta4:  -65.01  theta5:  131.71  theta6:  -58.85\n",
      "ans 10  theta1:  175.03  theta2:  146.3  theta3:  -66.85  theta4:  4.48  theta5:  131.71  theta6:  -58.85\n",
      "ans 11  theta1:  175.03  theta2:  82.18  theta3:  63.86  theta4:  -49.97  theta5:  131.71  theta6:  -40.68\n",
      "ans 12  theta1:  175.03  theta2:  143.55  theta3:  -63.86  theta4:  16.38  theta5:  131.71  theta6:  -40.68\n",
      "ans 13  theta1:  175.03  theta2:  102.93  theta3:  44.86  theta4:  -231.72  theta5:  -131.71  theta6:  -220.68\n",
      "ans 14  theta1:  175.03  theta2:  146.14  theta3:  -44.86  theta4:  -185.21  theta5:  -131.71  theta6:  -220.68\n",
      "ans 15  theta1:  175.03  theta2:  106.62  theta3:  36.99  theta4:  -239.67  theta5:  -131.71  theta6:  -238.85\n",
      "ans 16  theta1:  175.03  theta2:  142.27  theta3:  -36.99  theta4:  -201.35  theta5:  -131.71  theta6:  -238.85\n"
     ]
    }
   ],
   "source": [
    "theta_C = inverse(T_0_6_C)\n",
    "i = 0\n",
    "for th in theta_C:\n",
    "    i += 1\n",
    "    print(\"ans\",i,\" theta1: \",round(degrees(th[0]),2),\" theta2: \",round(degrees(th[1]),2),\" theta3: \",round(degrees(th[2]),2),\n",
    "          \" theta4: \",round(degrees(th[3]),2),\" theta5: \",round(degrees(th[4]),2), \" theta6: \",round(degrees(th[5]),2))"
   ]
  },
  {
   "cell_type": "markdown",
   "id": "23a6956d",
   "metadata": {},
   "source": [
    "As we can see, the answer that we give in forward kinematics, is appear in ans1. So we evaluate the forward and inverse kinematics code."
   ]
  },
  {
   "cell_type": "markdown",
   "id": "4f6d0ab5",
   "metadata": {},
   "source": [
    "## Workspace"
   ]
  },
  {
   "cell_type": "code",
   "execution_count": 132,
   "id": "7e908dc6",
   "metadata": {},
   "outputs": [],
   "source": [
    "ee_point = []\n",
    "for t1 in range(-180,180,90):\n",
    "    for t2 in  range(-180,180,90):\n",
    "        for t3 in  range(-180,180,90):\n",
    "            for t4 in  range(-180,180,90):\n",
    "                for t5 in  range(-180,180,90):\n",
    "                    for t6 in  range(-180,180,90):\n",
    "                        theta = [math.radians(t1), math.radians(t2), math.radians(t3), math.radians(t4),\n",
    "                                 math.radians(t5), math.radians(t6)]\n",
    "                        EE_T = forward_version2(theta)\n",
    "                        ee_point.append(np.array(EE_T)[:3,3])"
   ]
  },
  {
   "cell_type": "code",
   "execution_count": 137,
   "id": "aaeb9872",
   "metadata": {},
   "outputs": [
    {
     "data": {
      "text/plain": [
       "<mpl_toolkits.mplot3d.art3d.Path3DCollection at 0x1e9164386a0>"
      ]
     },
     "execution_count": 137,
     "metadata": {},
     "output_type": "execute_result"
    },
    {
     "data": {
      "image/png": "[encoded data removed]",
      "text/plain": [
       "<Figure size 432x288 with 1 Axes>"
      ]
     },
     "metadata": {
      "needs_background": "light"
     },
     "output_type": "display_data"
    }
   ],
   "source": [
    "import matplotlib.pyplot as plt\n",
    "from mpl_toolkits.mplot3d import Axes3D\n",
    "fig = plt.figure()\n",
    "ax = fig.add_subplot(111, projection='3d')\n",
    "ax.scatter(np.array(ee_point)[:,0], np.array(ee_point)[:,1], np.array(ee_point)[:,2], zdir='z', c= 'red')"
   ]
  },
  {
   "cell_type": "code",
   "execution_count": null,
   "id": "ff025691",
   "metadata": {},
   "outputs": [],
   "source": []
  }
 ],
 "metadata": {
  "kernelspec": {
   "display_name": "Python 3",
   "language": "python",
   "name": "python3"
  },
  "language_info": {
   "codemirror_mode": {
    "name": "ipython",
    "version": 3
   },
   "file_extension": ".py",
   "mimetype": "text/x-python",
   "name": "python",
   "nbconvert_exporter": "python",
   "pygments_lexer": "ipython3",
   "version": "3.9.12"
  }
 },
 "nbformat": 4,
 "nbformat_minor": 5
}
