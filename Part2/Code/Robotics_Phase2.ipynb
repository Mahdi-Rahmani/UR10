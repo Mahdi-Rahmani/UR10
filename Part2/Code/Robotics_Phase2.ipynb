{
 "cells": [
  {
   "cell_type": "markdown",
   "id": "ad0efc6f",
   "metadata": {},
   "source": [
    "<div class=\"alert alert-block alert-success\">\n",
    "    <h1 align=\"center\">Robotics project</h1>\n",
    "    <h3 align=\"center\">Analyzing 6-DOF UR10 robot arm</h3>\n",
    "    <h5 align=\"center\">Phase2 (Inverse velocity and Dynamics)</h5>\n",
    "</div>"
   ]
  },
  {
   "cell_type": "markdown",
   "id": "fa5bc7cc",
   "metadata": {},
   "source": [
    "## Import libraries"
   ]
  },
  {
   "cell_type": "code",
   "execution_count": 1,
   "id": "2a8c872a",
   "metadata": {},
   "outputs": [],
   "source": [
    "from sympy import *\n",
    "import numpy as np\n",
    "import math\n",
    "from math import degrees"
   ]
  },
  {
   "cell_type": "markdown",
   "id": "a7eb8d7f",
   "metadata": {},
   "source": [
    "## Forward Kinematics"
   ]
  },
  {
   "cell_type": "code",
   "execution_count": 2,
   "id": "d3dab613",
   "metadata": {},
   "outputs": [],
   "source": [
    "# Define the symbolic variables\n",
    "num_symbols = 6  # Number of symbols to generate\n",
    "alpha_names = [f\"alpha{i}\" for i in range(num_symbols+1)]\n",
    "a_names = [f\"a{i}\" for i in range(num_symbols+1)]\n",
    "d_names = [f\"d{i}\" for i in range(num_symbols+1)]\n",
    "theta_names = [f\"theta{i}\" for i in range(num_symbols+1)]\n",
    "\n",
    "alpha = symbols(alpha_names)\n",
    "a = symbols(a_names)\n",
    "d = symbols(d_names)\n",
    "theta = symbols(theta_names)\n",
    "\n",
    "# Define DH table\n",
    "DH_param = [[0, 0, d[1], theta[1]],\n",
    "            [pi/2, 0, 0, theta[2]],\n",
    "            [0, a[2], 0, theta[3]],\n",
    "            [0, a[3], d[4], theta[4]],\n",
    "            [-pi/2, 0, d[5], theta[5]],\n",
    "            [pi/2, 0, d[6], theta[6]]]\n",
    "\n",
    "# find homogeneous transformations(T_i_i-1)                \n",
    "T = []\n",
    "for i in range(6):\n",
    "    T_temp = [[cos(DH_param[i][3]), -sin(DH_param[i][3]), 0, DH_param[i][1]],\n",
    "              [sin(DH_param[i][3])*cos(DH_param[i][0]),  cos(DH_param[i][3])*cos(DH_param[i][0]), -sin(DH_param[i][0]), -sin(DH_param[i][0])*(DH_param[i][2])],\n",
    "              [sin(DH_param[i][3])*sin(DH_param[i][0]), cos(DH_param[i][3])*sin(DH_param[i][0]), cos(DH_param[i][0]), cos(DH_param[i][0])*DH_param[i][2]],\n",
    "              [0, 0, 0, 1]]\n",
    "    T.append(T_temp)"
   ]
  },
  {
   "cell_type": "markdown",
   "id": "98919e67",
   "metadata": {},
   "source": [
    "## Part1\n",
    "### Finding Jacobian Matrix"
   ]
  },
  {
   "cell_type": "markdown",
   "id": "19d40ec3",
   "metadata": {},
   "source": [
    "#### 1-1) Find T_0_i (like T_0_1, T_0_2, ...)"
   ]
  },
  {
   "cell_type": "code",
   "execution_count": 3,
   "id": "74edcdc4",
   "metadata": {},
   "outputs": [],
   "source": [
    "T_0_i = [T[0]]\n",
    "result = T[0]\n",
    "for n in range(1,len(T)):\n",
    "    # Multiply the matrices\n",
    "    result = [[sum(result[i][k] * T[n][k][j] for k in range(4)) for j in range(4)] for i in range(4)]\n",
    "    # Simplify the result according to cosine multiplication rules\n",
    "    simplified_result = [[trigsimp(expr) for expr in row] for row in result]\n",
    "    T_0_i.append(simplified_result)"
   ]
  },
  {
   "cell_type": "markdown",
   "id": "14166457",
   "metadata": {},
   "source": [
    "#### 1-2) Find zi and oi"
   ]
  },
  {
   "cell_type": "code",
   "execution_count": 4,
   "id": "53463dc4",
   "metadata": {},
   "outputs": [],
   "source": [
    "z = []\n",
    "o = []\n",
    "for T0i in T_0_i:\n",
    "    z.append(np.array(T0i)[:3,2][np.newaxis].T)\n",
    "    o.append(np.array(T0i)[:3,3][np.newaxis].T)"
   ]
  },
  {
   "cell_type": "markdown",
   "id": "6e1c22a6",
   "metadata": {},
   "source": [
    "#### 1-3) Creat J(theta)"
   ]
  },
  {
   "cell_type": "markdown",
   "id": "11d6f405",
   "metadata": {},
   "source": [
    "Here all joints are Revolute. So we use below formula for creating J(theta): \n",
    " \n",
    "    Ji = [[zi*(oe-oi)],[zi]]"
   ]
  },
  {
   "cell_type": "code",
   "execution_count": 5,
   "id": "68255cba",
   "metadata": {},
   "outputs": [],
   "source": [
    "J = []\n",
    "for i in range(len(z)):\n",
    "    Jvi = np.cross(z[i].T, (o[len(o)-1]-o[i]).T).T\n",
    "    Jwi = z[i]\n",
    "    Ji = np.append(Jvi,Jwi)\n",
    "    J.append(Ji)\n",
    "J = np.array([[trigsimp(expr) for expr in row] for row in J]).T"
   ]
  },
  {
   "cell_type": "code",
   "execution_count": 6,
   "id": "97605cda",
   "metadata": {},
   "outputs": [
    {
     "data": {
      "text/latex": [
       "$\\displaystyle \\left[\\begin{matrix}- a_{2} \\sin{\\left(\\theta_{1} \\right)} \\cos{\\left(\\theta_{2} \\right)} - a_{3} \\sin{\\left(\\theta_{1} \\right)} \\cos{\\left(\\theta_{2} + \\theta_{3} \\right)} + d_{4} \\cos{\\left(\\theta_{1} \\right)} + d_{5} \\sin{\\left(\\theta_{1} \\right)} \\sin{\\left(\\theta_{2} + \\theta_{3} + \\theta_{4} \\right)} + d_{6} \\left(- \\sin{\\left(\\theta_{1} \\right)} \\sin{\\left(\\theta_{5} \\right)} \\cos{\\left(\\theta_{2} + \\theta_{3} + \\theta_{4} \\right)} + \\cos{\\left(\\theta_{1} \\right)} \\cos{\\left(\\theta_{5} \\right)}\\right) & - \\left(a_{2} \\sin{\\left(\\theta_{2} \\right)} + a_{3} \\sin{\\left(\\theta_{2} + \\theta_{3} \\right)} + d_{5} \\cos{\\left(\\theta_{2} + \\theta_{3} + \\theta_{4} \\right)} + d_{6} \\sin{\\left(\\theta_{5} \\right)} \\sin{\\left(\\theta_{2} + \\theta_{3} + \\theta_{4} \\right)}\\right) \\cos{\\left(\\theta_{1} \\right)} & - \\left(a_{3} \\sin{\\left(\\theta_{2} + \\theta_{3} \\right)} + d_{5} \\cos{\\left(\\theta_{2} + \\theta_{3} + \\theta_{4} \\right)} + d_{6} \\sin{\\left(\\theta_{5} \\right)} \\sin{\\left(\\theta_{2} + \\theta_{3} + \\theta_{4} \\right)}\\right) \\cos{\\left(\\theta_{1} \\right)} & - \\left(d_{5} \\cos{\\left(\\theta_{2} + \\theta_{3} + \\theta_{4} \\right)} + d_{6} \\sin{\\left(\\theta_{5} \\right)} \\sin{\\left(\\theta_{2} + \\theta_{3} + \\theta_{4} \\right)}\\right) \\cos{\\left(\\theta_{1} \\right)} & d_{6} \\left(- \\sin{\\left(\\theta_{1} \\right)} \\sin{\\left(\\theta_{5} \\right)} + \\cos{\\left(\\theta_{1} \\right)} \\cos{\\left(\\theta_{5} \\right)} \\cos{\\left(\\theta_{2} + \\theta_{3} + \\theta_{4} \\right)}\\right) & 0\\\\a_{2} \\cos{\\left(\\theta_{1} \\right)} \\cos{\\left(\\theta_{2} \\right)} + a_{3} \\cos{\\left(\\theta_{1} \\right)} \\cos{\\left(\\theta_{2} + \\theta_{3} \\right)} + d_{4} \\sin{\\left(\\theta_{1} \\right)} - d_{5} \\sin{\\left(\\theta_{2} + \\theta_{3} + \\theta_{4} \\right)} \\cos{\\left(\\theta_{1} \\right)} + d_{6} \\left(\\sin{\\left(\\theta_{1} \\right)} \\cos{\\left(\\theta_{5} \\right)} + \\sin{\\left(\\theta_{5} \\right)} \\cos{\\left(\\theta_{1} \\right)} \\cos{\\left(\\theta_{2} + \\theta_{3} + \\theta_{4} \\right)}\\right) & - \\left(a_{2} \\sin{\\left(\\theta_{2} \\right)} + a_{3} \\sin{\\left(\\theta_{2} + \\theta_{3} \\right)} + d_{5} \\cos{\\left(\\theta_{2} + \\theta_{3} + \\theta_{4} \\right)} + d_{6} \\sin{\\left(\\theta_{5} \\right)} \\sin{\\left(\\theta_{2} + \\theta_{3} + \\theta_{4} \\right)}\\right) \\sin{\\left(\\theta_{1} \\right)} & - \\left(a_{3} \\sin{\\left(\\theta_{2} + \\theta_{3} \\right)} + d_{5} \\cos{\\left(\\theta_{2} + \\theta_{3} + \\theta_{4} \\right)} + d_{6} \\sin{\\left(\\theta_{5} \\right)} \\sin{\\left(\\theta_{2} + \\theta_{3} + \\theta_{4} \\right)}\\right) \\sin{\\left(\\theta_{1} \\right)} & - \\left(d_{5} \\cos{\\left(\\theta_{2} + \\theta_{3} + \\theta_{4} \\right)} + d_{6} \\sin{\\left(\\theta_{5} \\right)} \\sin{\\left(\\theta_{2} + \\theta_{3} + \\theta_{4} \\right)}\\right) \\sin{\\left(\\theta_{1} \\right)} & d_{6} \\left(\\sin{\\left(\\theta_{1} \\right)} \\cos{\\left(\\theta_{5} \\right)} \\cos{\\left(\\theta_{2} + \\theta_{3} + \\theta_{4} \\right)} + \\sin{\\left(\\theta_{5} \\right)} \\cos{\\left(\\theta_{1} \\right)}\\right) & 0\\\\0 & a_{2} \\cos{\\left(\\theta_{2} \\right)} + a_{3} \\cos{\\left(\\theta_{2} + \\theta_{3} \\right)} - d_{5} \\sin{\\left(\\theta_{2} + \\theta_{3} + \\theta_{4} \\right)} + d_{6} \\sin{\\left(\\theta_{5} \\right)} \\cos{\\left(\\theta_{2} + \\theta_{3} + \\theta_{4} \\right)} & a_{3} \\cos{\\left(\\theta_{2} + \\theta_{3} \\right)} - d_{5} \\sin{\\left(\\theta_{2} + \\theta_{3} + \\theta_{4} \\right)} + d_{6} \\sin{\\left(\\theta_{5} \\right)} \\cos{\\left(\\theta_{2} + \\theta_{3} + \\theta_{4} \\right)} & - d_{5} \\sin{\\left(\\theta_{2} + \\theta_{3} + \\theta_{4} \\right)} + d_{6} \\sin{\\left(\\theta_{5} \\right)} \\cos{\\left(\\theta_{2} + \\theta_{3} + \\theta_{4} \\right)} & d_{6} \\sin{\\left(\\theta_{2} + \\theta_{3} + \\theta_{4} \\right)} \\cos{\\left(\\theta_{5} \\right)} & 0\\\\0 & \\sin{\\left(\\theta_{1} \\right)} & \\sin{\\left(\\theta_{1} \\right)} & \\sin{\\left(\\theta_{1} \\right)} & - \\sin{\\left(\\theta_{2} + \\theta_{3} + \\theta_{4} \\right)} \\cos{\\left(\\theta_{1} \\right)} & \\sin{\\left(\\theta_{1} \\right)} \\cos{\\left(\\theta_{5} \\right)} + \\sin{\\left(\\theta_{5} \\right)} \\cos{\\left(\\theta_{1} \\right)} \\cos{\\left(\\theta_{2} + \\theta_{3} + \\theta_{4} \\right)}\\\\0 & - \\cos{\\left(\\theta_{1} \\right)} & - \\cos{\\left(\\theta_{1} \\right)} & - \\cos{\\left(\\theta_{1} \\right)} & - \\sin{\\left(\\theta_{1} \\right)} \\sin{\\left(\\theta_{2} + \\theta_{3} + \\theta_{4} \\right)} & \\sin{\\left(\\theta_{1} \\right)} \\sin{\\left(\\theta_{5} \\right)} \\cos{\\left(\\theta_{2} + \\theta_{3} + \\theta_{4} \\right)} - \\cos{\\left(\\theta_{1} \\right)} \\cos{\\left(\\theta_{5} \\right)}\\\\1 & 0 & 0 & 0 & \\cos{\\left(\\theta_{2} + \\theta_{3} + \\theta_{4} \\right)} & \\sin{\\left(\\theta_{5} \\right)} \\sin{\\left(\\theta_{2} + \\theta_{3} + \\theta_{4} \\right)}\\end{matrix}\\right]$"
      ],
      "text/plain": [
       "Matrix([\n",
       "[-a2*sin(theta1)*cos(theta2) - a3*sin(theta1)*cos(theta2 + theta3) + d4*cos(theta1) + d5*sin(theta1)*sin(theta2 + theta3 + theta4) + d6*(-sin(theta1)*sin(theta5)*cos(theta2 + theta3 + theta4) + cos(theta1)*cos(theta5)), -(a2*sin(theta2) + a3*sin(theta2 + theta3) + d5*cos(theta2 + theta3 + theta4) + d6*sin(theta5)*sin(theta2 + theta3 + theta4))*cos(theta1), -(a3*sin(theta2 + theta3) + d5*cos(theta2 + theta3 + theta4) + d6*sin(theta5)*sin(theta2 + theta3 + theta4))*cos(theta1), -(d5*cos(theta2 + theta3 + theta4) + d6*sin(theta5)*sin(theta2 + theta3 + theta4))*cos(theta1), d6*(-sin(theta1)*sin(theta5) + cos(theta1)*cos(theta5)*cos(theta2 + theta3 + theta4)),                                                                               0],\n",
       "[  a2*cos(theta1)*cos(theta2) + a3*cos(theta1)*cos(theta2 + theta3) + d4*sin(theta1) - d5*sin(theta2 + theta3 + theta4)*cos(theta1) + d6*(sin(theta1)*cos(theta5) + sin(theta5)*cos(theta1)*cos(theta2 + theta3 + theta4)), -(a2*sin(theta2) + a3*sin(theta2 + theta3) + d5*cos(theta2 + theta3 + theta4) + d6*sin(theta5)*sin(theta2 + theta3 + theta4))*sin(theta1), -(a3*sin(theta2 + theta3) + d5*cos(theta2 + theta3 + theta4) + d6*sin(theta5)*sin(theta2 + theta3 + theta4))*sin(theta1), -(d5*cos(theta2 + theta3 + theta4) + d6*sin(theta5)*sin(theta2 + theta3 + theta4))*sin(theta1),  d6*(sin(theta1)*cos(theta5)*cos(theta2 + theta3 + theta4) + sin(theta5)*cos(theta1)),                                                                               0],\n",
       "[                                                                                                                                                                                                                        0,                a2*cos(theta2) + a3*cos(theta2 + theta3) - d5*sin(theta2 + theta3 + theta4) + d6*sin(theta5)*cos(theta2 + theta3 + theta4),                a3*cos(theta2 + theta3) - d5*sin(theta2 + theta3 + theta4) + d6*sin(theta5)*cos(theta2 + theta3 + theta4),               -d5*sin(theta2 + theta3 + theta4) + d6*sin(theta5)*cos(theta2 + theta3 + theta4),                                          d6*sin(theta2 + theta3 + theta4)*cos(theta5),                                                                               0],\n",
       "[                                                                                                                                                                                                                        0,                                                                                                                               sin(theta1),                                                                                                              sin(theta1),                                                                                    sin(theta1),                                            -sin(theta2 + theta3 + theta4)*cos(theta1), sin(theta1)*cos(theta5) + sin(theta5)*cos(theta1)*cos(theta2 + theta3 + theta4)],\n",
       "[                                                                                                                                                                                                                        0,                                                                                                                              -cos(theta1),                                                                                                             -cos(theta1),                                                                                   -cos(theta1),                                            -sin(theta1)*sin(theta2 + theta3 + theta4), sin(theta1)*sin(theta5)*cos(theta2 + theta3 + theta4) - cos(theta1)*cos(theta5)],\n",
       "[                                                                                                                                                                                                                        1,                                                                                                                                         0,                                                                                                                        0,                                                                                              0,                                                         cos(theta2 + theta3 + theta4),                                       sin(theta5)*sin(theta2 + theta3 + theta4)]])"
      ]
     },
     "execution_count": 6,
     "metadata": {},
     "output_type": "execute_result"
    }
   ],
   "source": [
    "Matrix(J)"
   ]
  },
  {
   "cell_type": "markdown",
   "id": "0955e723",
   "metadata": {},
   "source": [
    "## Part2\n",
    "### Find Singularities"
   ]
  },
  {
   "cell_type": "markdown",
   "id": "58925387",
   "metadata": {},
   "source": [
    "### 2-1) J singularities"
   ]
  },
  {
   "cell_type": "code",
   "execution_count": 196,
   "id": "e81fc74c",
   "metadata": {},
   "outputs": [],
   "source": [
    "J_det = Matrix(J).det()"
   ]
  },
  {
   "cell_type": "code",
   "execution_count": 197,
   "id": "5229717d",
   "metadata": {},
   "outputs": [],
   "source": [
    "J_det_simp = trigsimp(J_det)"
   ]
  },
  {
   "cell_type": "code",
   "execution_count": 198,
   "id": "cc6a9d7e",
   "metadata": {
    "scrolled": true
   },
   "outputs": [
    {
     "data": {
      "text/latex": [
       "$\\displaystyle a_{2} a_{3} \\left(a_{2} \\cos{\\left(\\theta_{2} \\right)} + a_{3} \\cos{\\left(\\theta_{2} + \\theta_{3} \\right)} - d_{5} \\sin{\\left(\\theta_{2} + \\theta_{3} + \\theta_{4} \\right)}\\right) \\sin{\\left(\\theta_{3} \\right)} \\sin{\\left(\\theta_{5} \\right)}$"
      ],
      "text/plain": [
       "a2*a3*(a2*cos(theta2) + a3*cos(theta2 + theta3) - d5*sin(theta2 + theta3 + theta4))*sin(theta3)*sin(theta5)"
      ]
     },
     "execution_count": 198,
     "metadata": {},
     "output_type": "execute_result"
    }
   ],
   "source": [
    "J_det_simp"
   ]
  },
  {
   "cell_type": "markdown",
   "id": "0c3b1a8d",
   "metadata": {},
   "source": [
    "### 2-2) Jv singularities"
   ]
  },
  {
   "cell_type": "code",
   "execution_count": null,
   "id": "ab6efba8",
   "metadata": {},
   "outputs": [],
   "source": [
    "Jv = J[:3,:]\n",
    "simple_JvJvT = simplify(Jv@(Jv.T))"
   ]
  },
  {
   "cell_type": "code",
   "execution_count": null,
   "id": "a941cc39",
   "metadata": {},
   "outputs": [],
   "source": [
    "Jv_det = Matrix(Jv@Jv.T).det()\n",
    "Jv_det_simp = trigsimp(Jv_det)\n",
    "Jv_det_simp"
   ]
  },
  {
   "cell_type": "markdown",
   "id": "f9c8eddf",
   "metadata": {},
   "source": [
    "### 2-3) Jw singularities"
   ]
  },
  {
   "cell_type": "code",
   "execution_count": null,
   "id": "5f128524",
   "metadata": {},
   "outputs": [],
   "source": [
    "Jw = J[3:,:]\n",
    "simple_JwJwT = simplify(Jw@(Jw.T))"
   ]
  },
  {
   "cell_type": "code",
   "execution_count": null,
   "id": "972c07ed",
   "metadata": {},
   "outputs": [],
   "source": [
    "Jw_det = Matrix(simple_JwJwT).det()\n",
    "Jw_det_simp = trigsimp(Jw_det)\n",
    "Jw_det_simp"
   ]
  },
  {
   "cell_type": "markdown",
   "id": "67ae44d3",
   "metadata": {},
   "source": [
    "## Part3\n",
    "### Analisys of singularities"
   ]
  },
  {
   "cell_type": "code",
   "execution_count": null,
   "id": "72717898",
   "metadata": {},
   "outputs": [],
   "source": []
  },
  {
   "cell_type": "markdown",
   "id": "a121f434",
   "metadata": {},
   "source": [
    "## Part4\n",
    "### Dynamics Equations (Newton-ٍEuler method)"
   ]
  },
  {
   "cell_type": "markdown",
   "id": "2f0df2fa",
   "metadata": {},
   "source": [
    "#### 4-1) Define suitable variables "
   ]
  },
  {
   "cell_type": "markdown",
   "id": "94bb892e",
   "metadata": {},
   "source": [
    "- We have Rotation matrixes from forward kinematics. Here we need both R and R transpose:"
   ]
  },
  {
   "cell_type": "code",
   "execution_count": 8,
   "id": "93f449c6",
   "metadata": {},
   "outputs": [],
   "source": [
    "DOF = 6\n",
    "# Some variables which we had them from Phase1 and robot structure\n",
    "R = [np.array(T[i])[:3,:3] for i in range(DOF)]\n",
    "R_trans = [np.array(T[i])[:3,:3].T for i in range(DOF)]"
   ]
  },
  {
   "cell_type": "markdown",
   "id": "94320d80",
   "metadata": {},
   "source": [
    "- We need Inertia tensors of the links. We find them from Solidworks file."
   ]
  },
  {
   "cell_type": "code",
   "execution_count": 9,
   "id": "67a5cd82",
   "metadata": {},
   "outputs": [],
   "source": [
    "# Units : kg.m^2\n",
    "I_c0_0 = np.array([[0, 0, 0],[0, 0, 0],[0, 0, 0]])\n",
    "I_c1_1 = np.array([[0.03, 0, 0],[0, 0.03, 0],[0, 0, 0.03]])\n",
    "I_c2_2 = np.array([[0.05, 0, 0.01],[0, 1.23, 0],[0.01, 0, 1.23]])\n",
    "I_c3_3 = np.array([[0.02, 0, 0],[0, 0.54, 0],[0, 0, 0.54]])\n",
    "I_c4_4 = np.array([[0.003, 0, 0],[0, 0.0024, 0.00025],[0, 0.00025, 0.0028]])\n",
    "I_c5_5 = np.array([[0.003, 0, 0],[0, 0.0024, -0.00025],[0, -0.00025, 0.0028]])\n",
    "I_c6_6 = np.array([[0.00022, 0, 0],[0, 0.00024, 0],[0, 0, 0.0004]])\n",
    "I = [I_c0_0, I_c1_1, I_c2_2, I_c3_3, I_c4_4, I_c5_5, I_c6_6]"
   ]
  },
  {
   "cell_type": "markdown",
   "id": "6bd09d64",
   "metadata": {},
   "source": [
    "- We need mass of each link. We find them from Solidworks file."
   ]
  },
  {
   "cell_type": "code",
   "execution_count": 11,
   "id": "4764afe3",
   "metadata": {},
   "outputs": [],
   "source": [
    "# Units : kg\n",
    "m0, m1, m2, m3, m4, m5, m6 = 0, 8.3, 23.52, 12.56, 1.967, 1.967, 0.43"
   ]
  },
  {
   "cell_type": "markdown",
   "id": "4686578a",
   "metadata": {},
   "source": [
    "- We need the distance of center of mass of link i from frame i. (P_i_ci)"
   ]
  },
  {
   "cell_type": "code",
   "execution_count": 15,
   "id": "bdf0649a",
   "metadata": {},
   "outputs": [],
   "source": [
    "P_0_c0 = np.array([[0],[0],[0]])\n",
    "P_1_c1 = np.array([[0],[-0.01],[-0.01]])*10**(-3)\n",
    "P_2_c2 = np.array([[0.25],[0],[0.17]])*10**(-3)\n",
    "P_3_c3 = np.array([[0.26],[0],[0.05]])*10**(-3)\n",
    "P_4_c4 = np.array([[0],[9.74],[-7.6]])*10**(-3)\n",
    "P_5_c5 = np.array([[0],[-9.74],[-7.6]])*10**(-3)\n",
    "P_6_c6 = np.array([[0],[-0.95],[-17.46]])*10**(-3)\n",
    "Pc = [P_0_c0, P_1_c1, P_2_c2, P_3_c3, P_4_c4, P_5_c5, P_6_c6]"
   ]
  },
  {
   "cell_type": "markdown",
   "id": "52e78267",
   "metadata": {},
   "source": [
    "- We need the distance between frame i+1 and i. We can find them from fourth column of forward kinematics transformation matrix"
   ]
  },
  {
   "cell_type": "code",
   "execution_count": 22,
   "id": "b7e28a88",
   "metadata": {
    "scrolled": true
   },
   "outputs": [
    {
     "ename": "NameError",
     "evalue": "name 'd4' is not defined",
     "output_type": "error",
     "traceback": [
      "\u001b[1;31m---------------------------------------------------------------------------\u001b[0m",
      "\u001b[1;31mNameError\u001b[0m                                 Traceback (most recent call last)",
      "Input \u001b[1;32mIn [22]\u001b[0m, in \u001b[0;36m<cell line: 2>\u001b[1;34m()\u001b[0m\n\u001b[0;32m      1\u001b[0m T_num \u001b[38;5;241m=\u001b[39m T\n\u001b[1;32m----> 2\u001b[0m T_num \u001b[38;5;241m=\u001b[39m [Matrix(T_num[i])\u001b[38;5;241m.\u001b[39msubs({\u001b[38;5;124m'\u001b[39m\u001b[38;5;124md1\u001b[39m\u001b[38;5;124m'\u001b[39m:\u001b[38;5;241m10\u001b[39m, d4: \u001b[38;5;241m20\u001b[39m, d5:\u001b[38;5;241m8\u001b[39m, d6:\u001b[38;5;241m8\u001b[39m, a2:\u001b[38;5;241m9\u001b[39m, a3:\u001b[38;5;241m10\u001b[39m}) \u001b[38;5;28;01mfor\u001b[39;00m i \u001b[38;5;129;01min\u001b[39;00m \u001b[38;5;28mrange\u001b[39m(\u001b[38;5;28mlen\u001b[39m(T_num))]\n",
      "Input \u001b[1;32mIn [22]\u001b[0m, in \u001b[0;36m<listcomp>\u001b[1;34m(.0)\u001b[0m\n\u001b[0;32m      1\u001b[0m T_num \u001b[38;5;241m=\u001b[39m T\n\u001b[1;32m----> 2\u001b[0m T_num \u001b[38;5;241m=\u001b[39m [Matrix(T_num[i])\u001b[38;5;241m.\u001b[39msubs({\u001b[38;5;124m'\u001b[39m\u001b[38;5;124md1\u001b[39m\u001b[38;5;124m'\u001b[39m:\u001b[38;5;241m10\u001b[39m, \u001b[43md4\u001b[49m: \u001b[38;5;241m20\u001b[39m, d5:\u001b[38;5;241m8\u001b[39m, d6:\u001b[38;5;241m8\u001b[39m, a2:\u001b[38;5;241m9\u001b[39m, a3:\u001b[38;5;241m10\u001b[39m}) \u001b[38;5;28;01mfor\u001b[39;00m i \u001b[38;5;129;01min\u001b[39;00m \u001b[38;5;28mrange\u001b[39m(\u001b[38;5;28mlen\u001b[39m(T_num))]\n",
      "\u001b[1;31mNameError\u001b[0m: name 'd4' is not defined"
     ]
    }
   ],
   "source": [
    "T_num = T\n",
    "T_num = [Matrix(T_num[i]).subs({'d1':10, 'd4': 20, 'd5':8, 'd6':8, 'a2':9, 'a3':10}) for i in range(len(T_num))]"
   ]
  },
  {
   "cell_type": "code",
   "execution_count": 20,
   "id": "79a1b791",
   "metadata": {},
   "outputs": [
    {
     "data": {
      "text/latex": [
       "$\\displaystyle \\left[\\begin{matrix}\\cos{\\left(\\theta_{2} \\right)} & - \\sin{\\left(\\theta_{2} \\right)} & 0 & 0\\\\0 & 0 & -1 & 0\\\\\\sin{\\left(\\theta_{2} \\right)} & \\cos{\\left(\\theta_{2} \\right)} & 0 & 0\\\\0 & 0 & 0 & 1\\end{matrix}\\right]$"
      ],
      "text/plain": [
       "Matrix([\n",
       "[cos(theta2), -sin(theta2),  0, 0],\n",
       "[          0,            0, -1, 0],\n",
       "[sin(theta2),  cos(theta2),  0, 0],\n",
       "[          0,            0,  0, 1]])"
      ]
     },
     "execution_count": 20,
     "metadata": {},
     "output_type": "execute_result"
    }
   ],
   "source": [
    "Matrix(T_num[1])"
   ]
  },
  {
   "cell_type": "code",
   "execution_count": 41,
   "id": "52fb72c9",
   "metadata": {},
   "outputs": [],
   "source": [
    "DOF = 6\n",
    "# Some variables which we had them from Phase1 and robot structure\n",
    "R = [np.array(T[i])[:3,:3] for i in range(DOF)]\n",
    "R_trans = [np.array(T[i])[:3,:3].T for i in range(DOF)]\n",
    "I = [0,]\n",
    "P = []\n",
    "Pc = [0,]\n",
    "m = [0,]\n",
    "# some parametric varibales\n",
    "num_symbols = 6  # Number of symbols to generate\n",
    "theta_d_names = [f\"theta_d{i}\" for i in range(num_symbols+1)]\n",
    "theta_d = symbols(theta_d_names)\n",
    "theta_dd_names = [f\"theta_dd{i}\" for i in range(num_symbols+1)]\n",
    "theta_dd = symbols(theta_dd_names)\n",
    "# Some varibales we should expand them in Outward iterations\n",
    "w = [np.array([[0],[0],[0]])]\n",
    "w_dot = [np.array([[0],[0],[0]])]\n",
    "v_dot = [np.array([[0],[0],[0]])]\n",
    "vc_dot = []\n",
    "F = [np.array([[0],[0],[0]])]\n",
    "N = [np.array([[0],[0],[0]])]\n",
    "# Some varibales we should expand them in Inward iterations\n",
    "f = [np.array([[0],[0],[0]])]\n",
    "n = [np.array([[0],[0],[0]])]\n",
    "taw = []"
   ]
  },
  {
   "cell_type": "markdown",
   "id": "9e552f56",
   "metadata": {},
   "source": [
    "#### 4-2) Outward iterations"
   ]
  },
  {
   "cell_type": "code",
   "execution_count": null,
   "id": "75138300",
   "metadata": {},
   "outputs": [],
   "source": [
    "for i in range(DOF):\n",
    "    \n",
    "    w_i1 = R_trans[i]@w[i] + np.array([[0],[0],[theta_d[i+1]]])\n",
    "    w_dot_i1 = R_trans[i]@w_dot[i] + np.cross(R_trans[i]@w[i], np.array([[0],[0],[theta_d[i+1]]])) + np.array([[0],[0],[theta_dd[i+1]]])\n",
    "    v_dot_i1 = R_trans[i]@(np.cross(w_dot[i], P[i])+np.cross(w[i],np.cross(w[i],P[i]))+v_dot[i])\n",
    "    vc_dot_i1 = np.cross(w_dot_i1, Pc[i+1])+np.cross(w_i1,np.cross(w_i1,Pc[i+1]))+v_dot_i1\n",
    "    F_i1 = m[i+1]*vc_dot_i1\n",
    "    N_i1 = I[i+1]@w_dot_i1 + np.cross(w_i1, I[i+1]@w_i1)\n",
    "    \n",
    "    w.append(w_i1)\n",
    "    w_dot.append(w_dot_i1)\n",
    "    v_dot.append(v_dot_i1)\n",
    "    vc_dot.append(vc_dot_i1)\n",
    "    F.append(F_i1)\n",
    "    N.append(N_i1)"
   ]
  },
  {
   "cell_type": "markdown",
   "id": "a4aec979",
   "metadata": {},
   "source": [
    "#### 4-3) Inward iterations"
   ]
  },
  {
   "cell_type": "code",
   "execution_count": null,
   "id": "27b1a19c",
   "metadata": {},
   "outputs": [],
   "source": [
    "for i in range(DOF,0,-1):\n",
    "    fi = R[i]@f[len(f)-1] + F[i]\n",
    "    ni = N[i] + R[i]@n[len(n)-1]+np.cross(Pc[i],F[i])+np.cross(P[i], R[i]@f[len(f)-1])\n",
    "    tawi = ni[2]\n",
    "    f.append(fi)\n",
    "    n.append(ni)\n",
    "    taw.append(tawi)\n",
    "f.reverse()\n",
    "n.reverse()\n",
    "taw.reverse()"
   ]
  },
  {
   "cell_type": "code",
   "execution_count": 98,
   "id": "94423b8d",
   "metadata": {},
   "outputs": [],
   "source": [
    "F = np.empty((3, 0), float)"
   ]
  },
  {
   "cell_type": "code",
   "execution_count": 100,
   "id": "a89bf639",
   "metadata": {},
   "outputs": [
    {
     "ename": "ValueError",
     "evalue": "all the input arrays must have same number of dimensions, but the array at index 0 has 2 dimension(s) and the array at index 1 has 3 dimension(s)",
     "output_type": "error",
     "traceback": [
      "\u001b[1;31m---------------------------------------------------------------------------\u001b[0m",
      "\u001b[1;31mValueError\u001b[0m                                Traceback (most recent call last)",
      "Input \u001b[1;32mIn [100]\u001b[0m, in \u001b[0;36m<cell line: 1>\u001b[1;34m()\u001b[0m\n\u001b[1;32m----> 1\u001b[0m \u001b[43mnp\u001b[49m\u001b[38;5;241;43m.\u001b[39;49m\u001b[43mappend\u001b[49m\u001b[43m(\u001b[49m\u001b[43mF\u001b[49m\u001b[43m,\u001b[49m\u001b[43mnp\u001b[49m\u001b[38;5;241;43m.\u001b[39;49m\u001b[43marray\u001b[49m\u001b[43m(\u001b[49m\u001b[43m[\u001b[49m\u001b[43m[\u001b[49m\u001b[43m[\u001b[49m\u001b[38;5;241;43m1\u001b[39;49m\u001b[43m]\u001b[49m\u001b[43m,\u001b[49m\u001b[43m[\u001b[49m\u001b[38;5;241;43m1\u001b[39;49m\u001b[43m]\u001b[49m\u001b[43m,\u001b[49m\u001b[43m[\u001b[49m\u001b[38;5;241;43m1\u001b[39;49m\u001b[43m]\u001b[49m\u001b[43m]\u001b[49m\u001b[43m]\u001b[49m\u001b[43m)\u001b[49m\u001b[43m,\u001b[49m\u001b[43m \u001b[49m\u001b[43maxis\u001b[49m\u001b[43m \u001b[49m\u001b[38;5;241;43m=\u001b[39;49m\u001b[38;5;241;43m0\u001b[39;49m\u001b[43m)\u001b[49m\n",
      "File \u001b[1;32m<__array_function__ internals>:5\u001b[0m, in \u001b[0;36mappend\u001b[1;34m(*args, **kwargs)\u001b[0m\n",
      "File \u001b[1;32m~\\anaconda3\\lib\\site-packages\\numpy\\lib\\function_base.py:4817\u001b[0m, in \u001b[0;36mappend\u001b[1;34m(arr, values, axis)\u001b[0m\n\u001b[0;32m   4815\u001b[0m     values \u001b[38;5;241m=\u001b[39m ravel(values)\n\u001b[0;32m   4816\u001b[0m     axis \u001b[38;5;241m=\u001b[39m arr\u001b[38;5;241m.\u001b[39mndim\u001b[38;5;241m-\u001b[39m\u001b[38;5;241m1\u001b[39m\n\u001b[1;32m-> 4817\u001b[0m \u001b[38;5;28;01mreturn\u001b[39;00m \u001b[43mconcatenate\u001b[49m\u001b[43m(\u001b[49m\u001b[43m(\u001b[49m\u001b[43marr\u001b[49m\u001b[43m,\u001b[49m\u001b[43m \u001b[49m\u001b[43mvalues\u001b[49m\u001b[43m)\u001b[49m\u001b[43m,\u001b[49m\u001b[43m \u001b[49m\u001b[43maxis\u001b[49m\u001b[38;5;241;43m=\u001b[39;49m\u001b[43maxis\u001b[49m\u001b[43m)\u001b[49m\n",
      "File \u001b[1;32m<__array_function__ internals>:5\u001b[0m, in \u001b[0;36mconcatenate\u001b[1;34m(*args, **kwargs)\u001b[0m\n",
      "\u001b[1;31mValueError\u001b[0m: all the input arrays must have same number of dimensions, but the array at index 0 has 2 dimension(s) and the array at index 1 has 3 dimension(s)"
     ]
    }
   ],
   "source": [
    "np.append(F,np.array([[[1],[1],[1]]]), axis =0)"
   ]
  },
  {
   "cell_type": "code",
   "execution_count": 114,
   "id": "dc7fc645",
   "metadata": {},
   "outputs": [],
   "source": [
    "v3 = [np.array([[0],[0],[0]])]"
   ]
  },
  {
   "cell_type": "code",
   "execution_count": 115,
   "id": "b6a6b36a",
   "metadata": {},
   "outputs": [],
   "source": [
    "v3.append(np.array([[1],[1],[2]]))"
   ]
  },
  {
   "cell_type": "code",
   "execution_count": 116,
   "id": "67420492",
   "metadata": {},
   "outputs": [
    {
     "data": {
      "text/plain": [
       "[array([[0],\n",
       "        [0],\n",
       "        [0]]),\n",
       " array([[1],\n",
       "        [1],\n",
       "        [2]])]"
      ]
     },
     "execution_count": 116,
     "metadata": {},
     "output_type": "execute_result"
    }
   ],
   "source": [
    "v3"
   ]
  },
  {
   "cell_type": "code",
   "execution_count": 13,
   "id": "59e3fd5b",
   "metadata": {},
   "outputs": [
    {
     "data": {
      "text/plain": [
       "array([[2.6e-04],\n",
       "       [0.0e+00],\n",
       "       [5.0e-05]])"
      ]
     },
     "execution_count": 13,
     "metadata": {},
     "output_type": "execute_result"
    }
   ],
   "source": [
    "10**(-3)*np.array([[0.26],[0],[0.05]])"
   ]
  },
  {
   "cell_type": "code",
   "execution_count": null,
   "id": "568a919e",
   "metadata": {},
   "outputs": [],
   "source": []
  }
 ],
 "metadata": {
  "kernelspec": {
   "display_name": "Python 3",
   "language": "python",
   "name": "python3"
  },
  "language_info": {
   "codemirror_mode": {
    "name": "ipython",
    "version": 3
   },
   "file_extension": ".py",
   "mimetype": "text/x-python",
   "name": "python",
   "nbconvert_exporter": "python",
   "pygments_lexer": "ipython3",
   "version": "3.9.12"
  }
 },
 "nbformat": 4,
 "nbformat_minor": 5
}
